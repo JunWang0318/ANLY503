{
 "cells": [
  {
   "cell_type": "code",
   "execution_count": 1,
   "metadata": {},
   "outputs": [],
   "source": [
    "import plotly\n",
    "import plotly.plotly as py\n",
    "from plotly.grid_objs import Grid, Column\n",
    "from plotly import figure_factory as FF \n",
    "import plotly.plotly as py\n",
    "from plotly.graph_objs import *\n",
    "import pandas as pd\n",
    "import time"
   ]
  },
  {
   "cell_type": "code",
   "execution_count": 3,
   "metadata": {},
   "outputs": [
    {
     "data": {
      "text/html": [
       "<iframe id=\"igraph\" scrolling=\"no\" style=\"border:none;\" seamless=\"seamless\" src=\"https://plot.ly/~yw516/66.embed\" height=\"800px\" width=\"700px\"></iframe>"
      ],
      "text/plain": [
       "<plotly.tools.PlotlyDisplay object>"
      ]
     },
     "execution_count": 3,
     "metadata": {},
     "output_type": "execute_result"
    }
   ],
   "source": [
    "import plotly.graph_objs as go\n",
    "\n",
    "import pandas as pd\n",
    "\n",
    "# Get Data: this ex will only use part of it (i.e. rows 750-1500)\n",
    "df = pd.read_csv('cancer_us.csv')\n",
    "\n",
    "df['Mortality_AGE_ADJUSTED_RATE1'] = ['Mortality Rate: '+ str(i) for i in df['Mortality_AGE_ADJUSTED_RATE']]\n",
    "df['Incidence_AGE_ADJUSTED_RATE1'] = ['Incidence Rate: '+ str(i) for i in df['Incidence_AGE_ADJUSTED_RATE']]\n",
    "\n",
    "trace1 = go.Scatter3d(\n",
    "    x=df['YEAR'],\n",
    "    y=df['Mortality_COUNT'],\n",
    "    z=df['Incidence_COUNT'],\n",
    "    name = \"\",\n",
    "    text=df['Mortality_AGE_ADJUSTED_RATE1'],\n",
    "    mode='markers',\n",
    "    marker=dict(\n",
    "        sizemode='diameter',\n",
    "        sizeref=10,\n",
    "        size=df['Mortality_AGE_ADJUSTED_RATE'],\n",
    "        color = df['Mortality_AGE_ADJUSTED_RATE'],\n",
    "        colorscale = 'Hot',\n",
    "        colorbar = dict(title = 'Mortality Rate'),\n",
    "        line=dict(color='rgb(140, 140, 170)')\n",
    "    )\n",
    ")\n",
    "\n",
    "\n",
    "trace2 = go.Scatter3d(\n",
    "    x=df['YEAR'],\n",
    "    y=df['Mortality_COUNT'],\n",
    "    z=df['Incidence_COUNT'],\n",
    "    name = \"\",\n",
    "    text=df['Incidence_AGE_ADJUSTED_RATE1'],\n",
    "    mode='markers',\n",
    "    marker=dict(\n",
    "        sizemode='diameter',\n",
    "        sizeref=10,\n",
    "        size=df['Incidence_AGE_ADJUSTED_RATE'],\n",
    "        color = df['Incidence_AGE_ADJUSTED_RATE'],\n",
    "        colorscale = 'Viridis',\n",
    "        colorbar = dict(title = 'Incidence Rate'),\n",
    "        line=dict(color='rgb(140, 140, 170)')\n",
    "    )\n",
    ")\n",
    "\n",
    "\n",
    "\n",
    "data=[trace1, trace2]\n",
    "\n",
    "updatemenus = list([\n",
    "    dict(active=True,\n",
    "         buttons=list([   \n",
    "            dict(label = 'Mortality',\n",
    "                 method = 'update',\n",
    "                 args = [{'visible': [True, False]},\n",
    "                         {'title': 'Cancer Incidences vs Mortalities over Time'\n",
    "                          }]),\n",
    "            dict(label = 'Incidence',\n",
    "                 method = 'update',\n",
    "                 args = [{'visible': [False, True]},\n",
    "                         {'title': 'Cancer Incidences vs Mortalities over Time'}])\n",
    "        ]),\n",
    "    )\n",
    "])\n",
    "layout = go.Layout(\n",
    "                    scene = dict(\n",
    "                        xaxis = dict(\n",
    "                            title='YEAR'),\n",
    "                        yaxis = dict(\n",
    "                            title='Mortalities'),\n",
    "                        zaxis = dict(\n",
    "                            title='Incidences'),),\n",
    "                    width=700,\n",
    "                    height=800,\n",
    "                    title=\"Cancer Incidences vs Mortalities over Time\",\n",
    "                    showlegend=False\n",
    "                  )\n",
    "\n",
    "\n",
    "layout['updatemenus'] = updatemenus\n",
    "\n",
    "fig = dict(data=data, layout=layout)\n",
    "py.iplot(fig, filename='update_dropdown')"
   ]
  },
  {
   "cell_type": "code",
   "execution_count": null,
   "metadata": {},
   "outputs": [],
   "source": []
  }
 ],
 "metadata": {
  "kernelspec": {
   "display_name": "Python 3",
   "language": "python",
   "name": "python3"
  },
  "language_info": {
   "codemirror_mode": {
    "name": "ipython",
    "version": 3
   },
   "file_extension": ".py",
   "mimetype": "text/x-python",
   "name": "python",
   "nbconvert_exporter": "python",
   "pygments_lexer": "ipython3",
   "version": "3.6.5"
  }
 },
 "nbformat": 4,
 "nbformat_minor": 2
}
